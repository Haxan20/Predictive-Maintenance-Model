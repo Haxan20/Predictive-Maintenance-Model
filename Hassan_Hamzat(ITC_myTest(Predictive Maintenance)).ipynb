{
 "cells": [
  {
   "cell_type": "markdown",
   "id": "bd64eda4",
   "metadata": {},
   "source": [
    "####Let Build our Predictive Maintenance"
   ]
  },
  {
   "cell_type": "code",
   "execution_count": 14,
   "id": "a19c6d81",
   "metadata": {},
   "outputs": [],
   "source": [
    "import pandas as pd\n",
    "import numpy as np\n",
    "from sklearn.preprocessing import StandardScaler\n",
    "from sklearn.model_selection import train_test_split\n",
    "\n",
    "np.random.seed(42)"
   ]
  },
  {
   "cell_type": "code",
   "execution_count": 3,
   "id": "e474ed11",
   "metadata": {},
   "outputs": [],
   "source": [
    "# Generate realistic vehicle data\n",
    "data = pd.DataFrame({\n",
    "    'vehicle_id': np.arange(1000),\n",
    "    'mileage': np.random.normal(50000, 15000, 1000).astype(int),\n",
    "    'age': np.random.randint(1, 8, 1000),\n",
    "    'last_service_days': np.random.randint(30, 400, 1000),\n",
    "    'engine_hours': np.random.normal(2000, 500, 1000).astype(int),\n",
    "    'warning_lights': np.random.poisson(0.7, 1000),\n",
    "    'maintenance_needed': 0  # Initialize target\n",
    "})"
   ]
  },
  {
   "cell_type": "code",
   "execution_count": 4,
   "id": "74f9bf70",
   "metadata": {},
   "outputs": [],
   "source": [
    "# Create maintenance rules (realistic patterns)\n",
    "data.loc[\n",
    "    (data['mileage'] > 65000) | \n",
    "    (data['last_service_days'] > 300) |\n",
    "    (data['warning_lights'] >= 2) |\n",
    "    ((data['age'] > 5) & (data['engine_hours'] > 2500)),\n",
    "    'maintenance_needed'\n",
    "] = 1\n",
    "\n",
    "# Add some noise (10% random flips)\n",
    "flip_mask = np.random.random(1000) < 0.1\n",
    "data.loc[flip_mask, 'maintenance_needed'] = 1 - data.loc[flip_mask, 'maintenance_needed']\n",
    "\n",
    "# Export to CSV\n",
    "data.to_csv('fleet_maintenance.csv', index=False)"
   ]
  },
  {
   "cell_type": "code",
   "execution_count": 5,
   "id": "7b06a247",
   "metadata": {},
   "outputs": [],
   "source": [
    "import tensorflow as tf\n",
    "from tensorflow.keras.models import Sequential\n",
    "from tensorflow.keras.layers import Dense, Dropout, BatchNormalization\n",
    "from tensorflow.keras.callbacks import EarlyStopping\n",
    "from sklearn.metrics import classification_report, confusion_matrix"
   ]
  },
  {
   "cell_type": "code",
   "execution_count": 6,
   "id": "05fcabac",
   "metadata": {},
   "outputs": [],
   "source": [
    "# Load and preprocess\n",
    "df = pd.read_csv('fleet_maintenance.csv')\n",
    "features = ['mileage', 'age', 'last_service_days', 'engine_hours', 'warning_lights']\n",
    "X = df[features]\n",
    "y = df['maintenance_needed']"
   ]
  },
  {
   "cell_type": "code",
   "execution_count": 7,
   "id": "a071147c",
   "metadata": {},
   "outputs": [],
   "source": [
    "# Scale features\n",
    "scaler = StandardScaler()\n",
    "X_scaled = scaler.fit_transform(X)\n",
    "\n",
    "# Split data\n",
    "X_train, X_test, y_train, y_test = train_test_split(\n",
    "    X_scaled, y, test_size=0.2, random_state=42, stratify=y\n",
    ")"
   ]
  },
  {
   "cell_type": "code",
   "execution_count": 8,
   "id": "adb045bd",
   "metadata": {},
   "outputs": [
    {
     "name": "stderr",
     "output_type": "stream",
     "text": [
      "c:\\Users\\USER\\anaconda3\\Lib\\site-packages\\keras\\src\\layers\\core\\dense.py:93: UserWarning: Do not pass an `input_shape`/`input_dim` argument to a layer. When using Sequential models, prefer using an `Input(shape)` object as the first layer in the model instead.\n",
      "  super().__init__(activity_regularizer=activity_regularizer, **kwargs)\n"
     ]
    }
   ],
   "source": [
    "# Build enhanced model\n",
    "model = Sequential([\n",
    "    Dense(128, activation='relu', input_shape=(X_train.shape[1],)),\n",
    "    BatchNormalization(),\n",
    "    Dropout(0.3),\n",
    "    Dense(64, activation='relu'),\n",
    "    BatchNormalization(),\n",
    "    Dense(32, activation='relu'),\n",
    "    Dense(1, activation='sigmoid')\n",
    "])"
   ]
  },
  {
   "cell_type": "code",
   "execution_count": 9,
   "id": "ecba746f",
   "metadata": {},
   "outputs": [],
   "source": [
    "# Compile with class weights\n",
    "neg, pos = np.bincount(y_train)\n",
    "total = neg + pos\n",
    "model.compile(\n",
    "    optimizer=tf.keras.optimizers.Adam(0.001),\n",
    "    loss='binary_crossentropy',\n",
    "    metrics=[\n",
    "        'accuracy',\n",
    "        tf.keras.metrics.Precision(name='precision'),\n",
    "        tf.keras.metrics.Recall(name='recall')\n",
    "    ]\n",
    ")"
   ]
  },
  {
   "cell_type": "code",
   "execution_count": 10,
   "id": "d8ad9b1c",
   "metadata": {},
   "outputs": [
    {
     "name": "stdout",
     "output_type": "stream",
     "text": [
      "Epoch 1/100\n",
      "\u001b[1m20/20\u001b[0m \u001b[32m━━━━━━━━━━━━━━━━━━━━\u001b[0m\u001b[37m\u001b[0m \u001b[1m18s\u001b[0m 188ms/step - accuracy: 0.5601 - loss: 1.7048 - precision: 0.8713 - recall: 0.1405 - val_accuracy: 0.6562 - val_loss: 0.6501 - val_precision: 0.6273 - val_recall: 0.8313\n",
      "Epoch 2/100\n",
      "\u001b[1m20/20\u001b[0m \u001b[32m━━━━━━━━━━━━━━━━━━━━\u001b[0m\u001b[37m\u001b[0m \u001b[1m1s\u001b[0m 44ms/step - accuracy: 0.7211 - loss: 0.8333 - precision: 0.7646 - recall: 0.6669 - val_accuracy: 0.6187 - val_loss: 0.6304 - val_precision: 0.5873 - val_recall: 0.8916\n",
      "Epoch 3/100\n",
      "\u001b[1m20/20\u001b[0m \u001b[32m━━━━━━━━━━━━━━━━━━━━\u001b[0m\u001b[37m\u001b[0m \u001b[1m1s\u001b[0m 46ms/step - accuracy: 0.7442 - loss: 0.7036 - precision: 0.6906 - recall: 0.8286 - val_accuracy: 0.5938 - val_loss: 0.6235 - val_precision: 0.5703 - val_recall: 0.8795\n",
      "Epoch 4/100\n",
      "\u001b[1m20/20\u001b[0m \u001b[32m━━━━━━━━━━━━━━━━━━━━\u001b[0m\u001b[37m\u001b[0m \u001b[1m1s\u001b[0m 44ms/step - accuracy: 0.8079 - loss: 0.6462 - precision: 0.7541 - recall: 0.8964 - val_accuracy: 0.6438 - val_loss: 0.6118 - val_precision: 0.6083 - val_recall: 0.8795\n",
      "Epoch 5/100\n",
      "\u001b[1m20/20\u001b[0m \u001b[32m━━━━━━━━━━━━━━━━━━━━\u001b[0m\u001b[37m\u001b[0m \u001b[1m1s\u001b[0m 35ms/step - accuracy: 0.7827 - loss: 0.6099 - precision: 0.7327 - recall: 0.8873 - val_accuracy: 0.6875 - val_loss: 0.5976 - val_precision: 0.6460 - val_recall: 0.8795\n",
      "Epoch 6/100\n",
      "\u001b[1m20/20\u001b[0m \u001b[32m━━━━━━━━━━━━━━━━━━━━\u001b[0m\u001b[37m\u001b[0m \u001b[1m1s\u001b[0m 32ms/step - accuracy: 0.8177 - loss: 0.5789 - precision: 0.7556 - recall: 0.9191 - val_accuracy: 0.7125 - val_loss: 0.5793 - val_precision: 0.6729 - val_recall: 0.8675\n",
      "Epoch 7/100\n",
      "\u001b[1m20/20\u001b[0m \u001b[32m━━━━━━━━━━━━━━━━━━━━\u001b[0m\u001b[37m\u001b[0m \u001b[1m2s\u001b[0m 38ms/step - accuracy: 0.7982 - loss: 0.6754 - precision: 0.7686 - recall: 0.8792 - val_accuracy: 0.7250 - val_loss: 0.5664 - val_precision: 0.6893 - val_recall: 0.8554\n",
      "Epoch 8/100\n",
      "\u001b[1m20/20\u001b[0m \u001b[32m━━━━━━━━━━━━━━━━━━━━\u001b[0m\u001b[37m\u001b[0m \u001b[1m1s\u001b[0m 31ms/step - accuracy: 0.8110 - loss: 0.5720 - precision: 0.7616 - recall: 0.9070 - val_accuracy: 0.7688 - val_loss: 0.5494 - val_precision: 0.7396 - val_recall: 0.8554\n",
      "Epoch 9/100\n",
      "\u001b[1m20/20\u001b[0m \u001b[32m━━━━━━━━━━━━━━━━━━━━\u001b[0m\u001b[37m\u001b[0m \u001b[1m2s\u001b[0m 31ms/step - accuracy: 0.8045 - loss: 0.6235 - precision: 0.7436 - recall: 0.8874 - val_accuracy: 0.7625 - val_loss: 0.5414 - val_precision: 0.7368 - val_recall: 0.8434\n",
      "Epoch 10/100\n",
      "\u001b[1m20/20\u001b[0m \u001b[32m━━━━━━━━━━━━━━━━━━━━\u001b[0m\u001b[37m\u001b[0m \u001b[1m2s\u001b[0m 50ms/step - accuracy: 0.8399 - loss: 0.5144 - precision: 0.7933 - recall: 0.9063 - val_accuracy: 0.7500 - val_loss: 0.5280 - val_precision: 0.7312 - val_recall: 0.8193\n",
      "Epoch 11/100\n",
      "\u001b[1m20/20\u001b[0m \u001b[32m━━━━━━━━━━━━━━━━━━━━\u001b[0m\u001b[37m\u001b[0m \u001b[1m1s\u001b[0m 37ms/step - accuracy: 0.8104 - loss: 0.5831 - precision: 0.7583 - recall: 0.9160 - val_accuracy: 0.7563 - val_loss: 0.5170 - val_precision: 0.7391 - val_recall: 0.8193\n",
      "Epoch 12/100\n",
      "\u001b[1m20/20\u001b[0m \u001b[32m━━━━━━━━━━━━━━━━━━━━\u001b[0m\u001b[37m\u001b[0m \u001b[1m1s\u001b[0m 42ms/step - accuracy: 0.7729 - loss: 0.6197 - precision: 0.7276 - recall: 0.8558 - val_accuracy: 0.7563 - val_loss: 0.5114 - val_precision: 0.7391 - val_recall: 0.8193\n",
      "Epoch 13/100\n",
      "\u001b[1m20/20\u001b[0m \u001b[32m━━━━━━━━━━━━━━━━━━━━\u001b[0m\u001b[37m\u001b[0m \u001b[1m1s\u001b[0m 37ms/step - accuracy: 0.8176 - loss: 0.5874 - precision: 0.7711 - recall: 0.8898 - val_accuracy: 0.7563 - val_loss: 0.5045 - val_precision: 0.7391 - val_recall: 0.8193\n",
      "Epoch 14/100\n",
      "\u001b[1m20/20\u001b[0m \u001b[32m━━━━━━━━━━━━━━━━━━━━\u001b[0m\u001b[37m\u001b[0m \u001b[1m1s\u001b[0m 40ms/step - accuracy: 0.8135 - loss: 0.5771 - precision: 0.7780 - recall: 0.8925 - val_accuracy: 0.7625 - val_loss: 0.4933 - val_precision: 0.7419 - val_recall: 0.8313\n",
      "Epoch 15/100\n",
      "\u001b[1m20/20\u001b[0m \u001b[32m━━━━━━━━━━━━━━━━━━━━\u001b[0m\u001b[37m\u001b[0m \u001b[1m1s\u001b[0m 43ms/step - accuracy: 0.8133 - loss: 0.5710 - precision: 0.7603 - recall: 0.9067 - val_accuracy: 0.7625 - val_loss: 0.4856 - val_precision: 0.7473 - val_recall: 0.8193\n",
      "Epoch 16/100\n",
      "\u001b[1m20/20\u001b[0m \u001b[32m━━━━━━━━━━━━━━━━━━━━\u001b[0m\u001b[37m\u001b[0m \u001b[1m1s\u001b[0m 32ms/step - accuracy: 0.7732 - loss: 0.6316 - precision: 0.7284 - recall: 0.8706 - val_accuracy: 0.7812 - val_loss: 0.4847 - val_precision: 0.7727 - val_recall: 0.8193\n",
      "Epoch 17/100\n",
      "\u001b[1m20/20\u001b[0m \u001b[32m━━━━━━━━━━━━━━━━━━━━\u001b[0m\u001b[37m\u001b[0m \u001b[1m1s\u001b[0m 35ms/step - accuracy: 0.8413 - loss: 0.5668 - precision: 0.8018 - recall: 0.9128 - val_accuracy: 0.7625 - val_loss: 0.4844 - val_precision: 0.7528 - val_recall: 0.8072\n",
      "Epoch 18/100\n",
      "\u001b[1m20/20\u001b[0m \u001b[32m━━━━━━━━━━━━━━━━━━━━\u001b[0m\u001b[37m\u001b[0m \u001b[1m1s\u001b[0m 38ms/step - accuracy: 0.8489 - loss: 0.4987 - precision: 0.8111 - recall: 0.9033 - val_accuracy: 0.7688 - val_loss: 0.4826 - val_precision: 0.7674 - val_recall: 0.7952\n",
      "Epoch 19/100\n",
      "\u001b[1m20/20\u001b[0m \u001b[32m━━━━━━━━━━━━━━━━━━━━\u001b[0m\u001b[37m\u001b[0m \u001b[1m1s\u001b[0m 37ms/step - accuracy: 0.8095 - loss: 0.5921 - precision: 0.7637 - recall: 0.8970 - val_accuracy: 0.7688 - val_loss: 0.4784 - val_precision: 0.7738 - val_recall: 0.7831\n",
      "Epoch 20/100\n",
      "\u001b[1m20/20\u001b[0m \u001b[32m━━━━━━━━━━━━━━━━━━━━\u001b[0m\u001b[37m\u001b[0m \u001b[1m1s\u001b[0m 35ms/step - accuracy: 0.8530 - loss: 0.5291 - precision: 0.8352 - recall: 0.9034 - val_accuracy: 0.7688 - val_loss: 0.4826 - val_precision: 0.7674 - val_recall: 0.7952\n",
      "Epoch 21/100\n",
      "\u001b[1m20/20\u001b[0m \u001b[32m━━━━━━━━━━━━━━━━━━━━\u001b[0m\u001b[37m\u001b[0m \u001b[1m1s\u001b[0m 30ms/step - accuracy: 0.8230 - loss: 0.5391 - precision: 0.8061 - recall: 0.8728 - val_accuracy: 0.7812 - val_loss: 0.4819 - val_precision: 0.7857 - val_recall: 0.7952\n",
      "Epoch 22/100\n",
      "\u001b[1m20/20\u001b[0m \u001b[32m━━━━━━━━━━━━━━━━━━━━\u001b[0m\u001b[37m\u001b[0m \u001b[1m1s\u001b[0m 38ms/step - accuracy: 0.8289 - loss: 0.5791 - precision: 0.7918 - recall: 0.9062 - val_accuracy: 0.7625 - val_loss: 0.4709 - val_precision: 0.7711 - val_recall: 0.7711\n",
      "Epoch 23/100\n",
      "\u001b[1m20/20\u001b[0m \u001b[32m━━━━━━━━━━━━━━━━━━━━\u001b[0m\u001b[37m\u001b[0m \u001b[1m2s\u001b[0m 51ms/step - accuracy: 0.8396 - loss: 0.5452 - precision: 0.8035 - recall: 0.9105 - val_accuracy: 0.7875 - val_loss: 0.4853 - val_precision: 0.8101 - val_recall: 0.7711\n",
      "Epoch 24/100\n",
      "\u001b[1m20/20\u001b[0m \u001b[32m━━━━━━━━━━━━━━━━━━━━\u001b[0m\u001b[37m\u001b[0m \u001b[1m1s\u001b[0m 38ms/step - accuracy: 0.8337 - loss: 0.5435 - precision: 0.7987 - recall: 0.8936 - val_accuracy: 0.7812 - val_loss: 0.4975 - val_precision: 0.8000 - val_recall: 0.7711\n",
      "Epoch 25/100\n",
      "\u001b[1m20/20\u001b[0m \u001b[32m━━━━━━━━━━━━━━━━━━━━\u001b[0m\u001b[37m\u001b[0m \u001b[1m1s\u001b[0m 34ms/step - accuracy: 0.8483 - loss: 0.4997 - precision: 0.8037 - recall: 0.9213 - val_accuracy: 0.7750 - val_loss: 0.4887 - val_precision: 0.7901 - val_recall: 0.7711\n",
      "Epoch 26/100\n",
      "\u001b[1m20/20\u001b[0m \u001b[32m━━━━━━━━━━━━━━━━━━━━\u001b[0m\u001b[37m\u001b[0m \u001b[1m1s\u001b[0m 33ms/step - accuracy: 0.8375 - loss: 0.5029 - precision: 0.8182 - recall: 0.8847 - val_accuracy: 0.7625 - val_loss: 0.4980 - val_precision: 0.7848 - val_recall: 0.7470\n",
      "Epoch 27/100\n",
      "\u001b[1m20/20\u001b[0m \u001b[32m━━━━━━━━━━━━━━━━━━━━\u001b[0m\u001b[37m\u001b[0m \u001b[1m1s\u001b[0m 32ms/step - accuracy: 0.8482 - loss: 0.4764 - precision: 0.7987 - recall: 0.9201 - val_accuracy: 0.7563 - val_loss: 0.4895 - val_precision: 0.7750 - val_recall: 0.7470\n",
      "Epoch 28/100\n",
      "\u001b[1m20/20\u001b[0m \u001b[32m━━━━━━━━━━━━━━━━━━━━\u001b[0m\u001b[37m\u001b[0m \u001b[1m1s\u001b[0m 37ms/step - accuracy: 0.8241 - loss: 0.5484 - precision: 0.7980 - recall: 0.8868 - val_accuracy: 0.7625 - val_loss: 0.4947 - val_precision: 0.7778 - val_recall: 0.7590\n",
      "Epoch 29/100\n",
      "\u001b[1m20/20\u001b[0m \u001b[32m━━━━━━━━━━━━━━━━━━━━\u001b[0m\u001b[37m\u001b[0m \u001b[1m2s\u001b[0m 43ms/step - accuracy: 0.8509 - loss: 0.5018 - precision: 0.8153 - recall: 0.9115 - val_accuracy: 0.7625 - val_loss: 0.5017 - val_precision: 0.7848 - val_recall: 0.7470\n",
      "Epoch 30/100\n",
      "\u001b[1m20/20\u001b[0m \u001b[32m━━━━━━━━━━━━━━━━━━━━\u001b[0m\u001b[37m\u001b[0m \u001b[1m1s\u001b[0m 44ms/step - accuracy: 0.8512 - loss: 0.5073 - precision: 0.8044 - recall: 0.9162 - val_accuracy: 0.7500 - val_loss: 0.4975 - val_precision: 0.7654 - val_recall: 0.7470\n",
      "Epoch 31/100\n",
      "\u001b[1m20/20\u001b[0m \u001b[32m━━━━━━━━━━━━━━━━━━━━\u001b[0m\u001b[37m\u001b[0m \u001b[1m1s\u001b[0m 38ms/step - accuracy: 0.8201 - loss: 0.5512 - precision: 0.7893 - recall: 0.8667 - val_accuracy: 0.7500 - val_loss: 0.4940 - val_precision: 0.7529 - val_recall: 0.7711\n",
      "Epoch 32/100\n",
      "\u001b[1m20/20\u001b[0m \u001b[32m━━━━━━━━━━━━━━━━━━━━\u001b[0m\u001b[37m\u001b[0m \u001b[1m1s\u001b[0m 38ms/step - accuracy: 0.8434 - loss: 0.4830 - precision: 0.8017 - recall: 0.9177 - val_accuracy: 0.7750 - val_loss: 0.5022 - val_precision: 0.7901 - val_recall: 0.7711\n"
     ]
    }
   ],
   "source": [
    "# Train with early stopping\n",
    "history = model.fit(\n",
    "    X_train, y_train,\n",
    "    epochs=100,\n",
    "    batch_size=32,\n",
    "    validation_split=0.2,\n",
    "    callbacks=[EarlyStopping(patience=10, restore_best_weights=True)],\n",
    "    class_weight={0: 1, 1: total/pos}  # Auto-balance\n",
    ")"
   ]
  },
  {
   "cell_type": "code",
   "execution_count": 11,
   "id": "8c3f350b",
   "metadata": {},
   "outputs": [
    {
     "name": "stdout",
     "output_type": "stream",
     "text": [
      "\n",
      "Evaluation Metrics:\n",
      "\u001b[1m7/7\u001b[0m \u001b[32m━━━━━━━━━━━━━━━━━━━━\u001b[0m\u001b[37m\u001b[0m \u001b[1m1s\u001b[0m 53ms/step\n",
      "              precision    recall  f1-score   support\n",
      "\n",
      "           0       0.85      0.72      0.78        99\n",
      "           1       0.76      0.87      0.81       101\n",
      "\n",
      "    accuracy                           0.80       200\n",
      "   macro avg       0.80      0.79      0.79       200\n",
      "weighted avg       0.80      0.80      0.79       200\n",
      "\n",
      "Confusion Matrix:\n",
      "[[71 28]\n",
      " [13 88]]\n"
     ]
    }
   ],
   "source": [
    "# Evaluate\n",
    "print(\"\\nEvaluation Metrics:\")\n",
    "y_pred = (model.predict(X_test) > 0.5).astype(int)\n",
    "print(classification_report(y_test, y_pred))\n",
    "print(\"Confusion Matrix:\")\n",
    "print(confusion_matrix(y_test, y_pred))"
   ]
  },
  {
   "cell_type": "code",
   "execution_count": 13,
   "id": "1775a412",
   "metadata": {},
   "outputs": [
    {
     "data": {
      "image/png": "[encoded data removed]",
      "text/plain": [
       "<Figure size 640x480 with 1 Axes>"
      ]
     },
     "metadata": {},
     "output_type": "display_data"
    }
   ],
   "source": [
    "# Feature importance analysis\n",
    "import matplotlib.pyplot as plt\n",
    "weights = model.layers[0].get_weights()[0]\n",
    "importance = np.mean(np.abs(weights), axis=1)\n",
    "pd.Series(importance, index=features).sort_values().plot.barh()\n",
    "plt.title('Feature Importance')\n",
    "plt.show()"
   ]
  },
  {
   "cell_type": "code",
   "execution_count": null,
   "id": "7eaa5f9c",
   "metadata": {},
   "outputs": [],
   "source": []
  }
 ],
 "metadata": {
  "kernelspec": {
   "display_name": "base",
   "language": "python",
   "name": "python3"
  },
  "language_info": {
   "codemirror_mode": {
    "name": "ipython",
    "version": 3
   },
   "file_extension": ".py",
   "mimetype": "text/x-python",
   "name": "python",
   "nbconvert_exporter": "python",
   "pygments_lexer": "ipython3",
   "version": "3.12.7"
  }
 },
 "nbformat": 4,
 "nbformat_minor": 5
}
